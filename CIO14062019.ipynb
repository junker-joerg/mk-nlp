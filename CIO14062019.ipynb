{
 "cells": [
  {
   "cell_type": "markdown",
   "metadata": {},
   "source": [
    "# KPMG CIO Agenda - Session 1 [english] "
   ]
  },
  {
   "cell_type": "markdown",
   "metadata": {},
   "source": [
    "Why everbody can program:\n",
    "+ jeder kann schreiben ...\n",
    "+ aber nicht jeder wie Wolfgang Goethe oder J.R. Tolkien...\n",
    "- Ein Buch ist ein \"Programm\", dass das Gehirn einen Film drehen lässt...\n",
    "- ... oder Wissen / Fähigkeiten vermittelt (wie repariere ich ein Fahrrad) \n",
    "    +  aber das Gehirn bleibt nicht bei jeder \"Inkonsistenz\" stehen\n",
    "    +  der Computer meistens"
   ]
  },
  {
   "cell_type": "markdown",
   "metadata": {},
   "source": [
    "> Ziele für heute\n",
    "> 1. Die Angst verlieren"
   ]
  },
  {
   "cell_type": "markdown",
   "metadata": {},
   "source": [
    "### Warum wir in Python \"auf den Schultern von Riesen\" programmieren (frei nach Einstein)"
   ]
  },
  {
   "cell_type": "code",
   "execution_count": 1,
   "metadata": {},
   "outputs": [],
   "source": [
    "import textblob_de"
   ]
  },
  {
   "cell_type": "code",
   "execution_count": null,
   "metadata": {},
   "outputs": [],
   "source": []
  }
 ],
 "metadata": {
  "kernelspec": {
   "display_name": "Python 3",
   "language": "python",
   "name": "python3"
  },
  "language_info": {
   "codemirror_mode": {
    "name": "ipython",
    "version": 3
   },
   "file_extension": ".py",
   "mimetype": "text/x-python",
   "name": "python",
   "nbconvert_exporter": "python",
   "pygments_lexer": "ipython3",
   "version": "3.6.7"
  }
 },
 "nbformat": 4,
 "nbformat_minor": 2
}
