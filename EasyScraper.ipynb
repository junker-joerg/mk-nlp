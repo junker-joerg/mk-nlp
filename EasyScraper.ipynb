{
 "cells": [
  {
   "cell_type": "markdown",
   "metadata": {},
   "source": [
    "https://towardsdatascience.com/easily-scrape-and-summarize-news-articles-using-python-dfc7667d9e74"
   ]
  },
  {
   "cell_type": "markdown",
   "metadata": {},
   "source": [
    "!conda install -c anaconda beautifulsoup4 "
   ]
  },
  {
   "cell_type": "code",
   "execution_count": 1,
   "metadata": {},
   "outputs": [],
   "source": [
    "import requests\n",
    "from bs4 import BeautifulSoup\n",
    "from gensim.summarization import summarize"
   ]
  },
  {
   "cell_type": "markdown",
   "metadata": {},
   "source": [
    "Hier eine Liste der News-Artikel-Links aus Feedly holen"
   ]
  },
  {
   "cell_type": "code",
   "execution_count": 2,
   "metadata": {},
   "outputs": [],
   "source": [
    "# Retrieve page text\n",
    "url = 'https://www.spiegel.de/politik/deutschland/annegret-kramp-karrenbauer-angela-merkel-wollte-grossen-kabinettsumbau-vermeiden-a-1277828.html'\n",
    "page = requests.get(url).text"
   ]
  },
  {
   "cell_type": "code",
   "execution_count": 3,
   "metadata": {},
   "outputs": [],
   "source": [
    "# Turn page into BeautifulSoup object to access HTML tags\n",
    "soup = BeautifulSoup(page)"
   ]
  },
  {
   "cell_type": "code",
   "execution_count": 4,
   "metadata": {},
   "outputs": [],
   "source": [
    "# Get headline\n",
    "headline = soup.find('h1').get_text()"
   ]
  },
  {
   "cell_type": "code",
   "execution_count": 5,
   "metadata": {},
   "outputs": [],
   "source": [
    "# Get text from all <p> tags.\n",
    "p_tags = soup.find_all('p')\n",
    "# Get the text from each of the “p” tags and strip surrounding whitespace.\n",
    "p_tags_text = [tag.get_text().strip() for tag in p_tags]"
   ]
  },
  {
   "cell_type": "code",
   "execution_count": 6,
   "metadata": {},
   "outputs": [],
   "source": [
    "# Filter out sentences that contain newline characters '\\n' or don't contain periods.\n",
    "sentence_list = [sentence for sentence in p_tags_text if not '\\n' in sentence]\n",
    "sentence_list = [sentence for sentence in sentence_list if '.' in sentence]\n",
    "# Combine list items into string.\n",
    "article = ' '.join(sentence_list)"
   ]
  },
  {
   "cell_type": "code",
   "execution_count": 7,
   "metadata": {},
   "outputs": [
    {
     "data": {
      "text/plain": [
       "'Mit der Entscheidung für Kramp-Karrenbauer als neue Verteidigungsministerin wollte die Kanzlerin auch das Signal setzen: Die Regierung steht stabil da. Selbst die engere CDU-Spitze reagierte nach SPIEGEL-Informationen überrascht - und war erst sprachlos. Wechsel im Verteidigungsministerium: Annegret Kramp-Karrenbauer überraschte mit ihrem Schritt, das Amt von Ursula von der Leyen zu übernehmen. Angela Merkel wollte einen größeren Kabinettsumbau verhindern Mit der Entscheidung für Annegret Kramp-Karrenbauer als neue Verteidigungsministerin wollte Bundeskanzlerin Angela Merkel eine größere Kabinettsumbildung vermeiden - und überraschte damit auch viele Mitglieder des CDU-Präsidiums. Wie der SPIEGEL aus der Parteispitze erfuhr, waren die meisten Teilnehmer der Telefonschalte erst einmal sprachlos, nachdem Kramp-Karrenbauer den Entschluss am Dienstagabend verkündet hatte. Merkel lobte in dem Telefonat, zu dem der innere Machtzirkel der CDU zusammengeschaltet wurde, ausdrücklich Jens Spahn und dessen Arbeit als Gesundheitsminister. Über Spahn war zuvor spekuliert worden, dass er das Wehrressort übernehmen werde. Einige Medien hatten dies bereits als Tatsache gemeldet. Merkel fragte nach Angaben von Teilnehmern: \"Ist Jens Spahn in der Leitung?\" Es gebe diese seltsame Meldung, dass er das Verteidigungsministerium hätte leiten sollen. Sie könne sich nicht erklären, wo diese Meldung herkomme und wolle nur noch einmal klarstellen: Spahn mache einen tollen Job als Gesundheitsminister, sie sei sehr froh, ihn im Kabinett zu haben. Kramp-Karrenbauer hatte einen Wechsel ins Kabinett zuvor mehrfach öffentlich ausgeschlossen, weil sie sich auf das Parteiamt konzentrieren wolle. Nach der plötzlichen Kehrtwende am Dienstagabend erhielt sie nur Stunden später am Mittwoch im Schloss Bellevue vom stellvertretenden Bundesratspräsidenten, Berlins Regierungschef Michael Müller (SPD), ihre Ernennungsurkunde. Er vertrat Bundespräsident Frank-Walter Steinmeier, der im Urlaub ist. Die bisherige Verteidigungsministerin Ursula von der Leyen, die am Dienstag zur EU-Kommissionspräsidentin gewählt worden war, erhielt ihre Entlassungsurkunde. Kramp-Karrenbauer und von der Leyen wurden anschließend im Bendlerblock von der Bundeswehr mit militärischen Ehren empfangen. Das Heeresmusikkorps spielte die Nationalhymne. Gemeinsam schritten sie die angetretene Ehrenformation ab. (Wie die CDU-Spitze von der Entscheidung für Kram-Karrenbauer überrascht wurde: Lesen Sie hier die Rekonstruktion.)'"
      ]
     },
     "execution_count": 7,
     "metadata": {},
     "output_type": "execute_result"
    }
   ],
   "source": [
    "article"
   ]
  },
  {
   "cell_type": "code",
   "execution_count": 8,
   "metadata": {},
   "outputs": [],
   "source": [
    "summary = summarize(article, ratio=0.1)"
   ]
  },
  {
   "cell_type": "code",
   "execution_count": 9,
   "metadata": {},
   "outputs": [
    {
     "data": {
      "text/plain": [
       "'Angela Merkel wollte einen größeren Kabinettsumbau verhindern Mit der Entscheidung für Annegret Kramp-Karrenbauer als neue Verteidigungsministerin wollte Bundeskanzlerin Angela Merkel eine größere Kabinettsumbildung vermeiden - und überraschte damit auch viele Mitglieder des CDU-Präsidiums.'"
      ]
     },
     "execution_count": 9,
     "metadata": {},
     "output_type": "execute_result"
    }
   ],
   "source": [
    "summary"
   ]
  },
  {
   "cell_type": "code",
   "execution_count": null,
   "metadata": {},
   "outputs": [],
   "source": []
  }
 ],
 "metadata": {
  "kernelspec": {
   "display_name": "Python [conda env:tensorflow]",
   "language": "python",
   "name": "conda-env-tensorflow-py"
  },
  "varInspector": {
   "cols": {
    "lenName": 16,
    "lenType": 16,
    "lenVar": 40
   },
   "kernels_config": {
    "python": {
     "delete_cmd_postfix": "",
     "delete_cmd_prefix": "del ",
     "library": "var_list.py",
     "varRefreshCmd": "print(var_dic_list())"
    },
    "r": {
     "delete_cmd_postfix": ") ",
     "delete_cmd_prefix": "rm(",
     "library": "var_list.r",
     "varRefreshCmd": "cat(var_dic_list()) "
    }
   },
   "types_to_exclude": [
    "module",
    "function",
    "builtin_function_or_method",
    "instance",
    "_Feature"
   ],
   "window_display": false
  }
 },
 "nbformat": 4,
 "nbformat_minor": 2
}
