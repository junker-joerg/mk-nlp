{
 "cells": [
  {
   "cell_type": "code",
   "execution_count": 1,
   "metadata": {},
   "outputs": [],
   "source": [
    "import gensim\n",
    "from gensim import corpora"
   ]
  },
  {
   "cell_type": "code",
   "execution_count": 2,
   "metadata": {},
   "outputs": [],
   "source": [
    "# %pip install -U textblob-de ... geht nicht über conda ..."
   ]
  },
  {
   "cell_type": "code",
   "execution_count": 3,
   "metadata": {},
   "outputs": [],
   "source": [
    "import textblob_de"
   ]
  },
  {
   "cell_type": "code",
   "execution_count": 4,
   "metadata": {},
   "outputs": [],
   "source": [
    "from textblob_de import TextBlobDE as TextBlob\n",
    "from textblob_de import PatternParser"
   ]
  },
  {
   "cell_type": "code",
   "execution_count": 5,
   "metadata": {},
   "outputs": [],
   "source": [
    "text = '''Flydays for Future\n",
    "Als hätte es keine Klimaproteste gegeben: Schlangen von Familien am Abfertigungsschalter im Flughafen Hannover-Langenhagen. 719.000 Fluggäste wurden hier im Oktober 2018 abgefertigt, in diesem Jahr rechnet der Airport mit der gleichen Zahl. fotos: Moritz Frankenberg\n",
    "Trotz aller Klimaproteste: In diesen Herbstferien fliegen genauso viele Familien vom Flughafen Hannover ab wie im Vorjahr. Aber vielfach gehen kontroverse Debatten im Familienkreis voraus. Ein Besuch in der Abflugebene des Airports. Von Conrad von Meding\n",
    "Hannover. Die Schlangen an den Abfertigungsschaltern sind so lang wie immer zum Ferienauftakt. Als wären nicht Zehntausende Schüler in Schulstreik getreten, als hätte es keine Klimaproteste auch an hannoverschen Schulen gegeben – übrigens genau im zehnten Monat jetzt schon. Hurghada, Mallorca, Lanzarote, Barcelona, Heraklion, Thessaloniki sind die Flugziele auf der großen Airport-Tafel an diesem Vormittag. Und darunter: Familien mit Schulkindern, die dem Schmuddelwetter gen Süden entfliehen. Mit dem Flieger. Flydays for Future?\n",
    "„Die Maschinen sind gut gebucht“, bestätigt Flughafensprecher Sönke Jacobsen den optischen Eindruck, den die Schlangen an den Check-in-Schaltern vermitteln. Etwa 719 000 Fluggäste habe der Airport im Oktober 2018 gezählt. Für diesen Oktober gehe man von „annähernd dem gleichen Niveau“ aus, genaue Zahlen gibt es erst am Monatsende.\n",
    "„Klimaschutz ist wichtig – aber nicht so, dass wir dafür Urlaub opfern“: Karina Schmidt mit Tochter Aylin im Flughafen Hannover auf dem Weg nach Hurghada.\tMoritz Frankenberg\n",
    "Also: Nichts mit Flugscham? Macht der Bewusstseinswandel Herbstferien? Erscheint die Klimakrise weniger dramatisch, wenn man dafür Sonne und Sandstrand aufgeben müsste? „Klimaschutz ist wichtig, aber nicht so, dass wir dafür den Urlaub opfern“, sagt ganz ehrlich Karina Schmidt. Die 35-jährige Physiotherapeutin ist mit Tochter Aylin (15) unterwegs nach Hurghada, das Sonne-und-Schnorchel-Paradies am Roten Meer in Ägypten. Klimaschutz nicht so wichtig – darf man so etwas sagen in Zeiten von Klimaprotesten?\n",
    "„Ja, man darf“, sagt auch eine Braunschweiger Mutter, die mit Mann und den 14- und 17-jährigen Kindern Richtung Süden eincheckt. „Ich fahre 365 Tage im Jahr mit dem Rad zur Arbeit“, sagt sie, „ich kaufe sehr bewusst Lebensmittel ein, ich werfe davon fast nichts weg, wir kaufen nicht Unmengen an Klamotten, und die Kinder haben nicht ständig die neuesten Handys. Ich lasse mir nicht unterstellen, ich sei nicht umweltbewusst.“ Allein der Drang zur Rechtfertigung zeigt: Da ist durchaus Flugscham, dieses neuzeitliche Phänomen, aber zugleich der verständliche Wille, sich wenigstens den Familienurlaub nicht auch noch von Diskussionen vermiesen zu lassen.\n",
    "„Ganz ehrlich: Wenn ich das Wort Flugscham höre, kriege ich Blutdruck“: Raoul Hille, Chef des Hannover-Airports, hat mit diesem Satz im Sommer Schlagzeilen gemacht. In Deutschland gingen 0,3 Prozent des CO2 -Ausstoßes auf Inlandsflüge zurück, weltweit mache der Luftverkehr zwischen 2 und 3 Prozent der Emissionen aus. Moritz Frankenberg (Archiv)\n",
    "Tatsächlich setzt ein Flug Hannover–Hurghada 1797 Kilogramm CO2 frei, pro Person, in einem durchschnittlichen Flugzeug. Weil das so abstrakt klingt: Der Wert entspricht fast der Menge CO2, die ein durchschnittliches deutsches Auto pro Jahr aus dem Auspuff bläst, bei 12 000 Kilometern Fahrleistung. Die Braunschweigerin hat also recht, dass sie mit ihrem täglichen Radfahren der Umwelt viel Dreck erspart, rechnerisch hat sie sich ihren Flug nach Hurghada verdient. Nur: Ihre Familie wird wieder zurückfliegen. Das sind dann pro Person schon 3594 Kilogramm CO2, also die Fahrleistung von zwei Familienautos. Schlaue Leute haben errechnet, der durchschnittliche Inder verbrauche 1600 Kilogramm CO2 im Jahr. Bei den Zahlen ahnt man, dass zwar das Argument richtig ist, dass Deutschland nur 2 Prozent der weltweiten CO2-Emissionen ausmacht. Aber dass jeder Einzelne durchaus etwas tun kann. Könnte.\n",
    "Jahrgangsfahrt an die Côte d´Azur abgesagt: An der Schule von Anna Janßen (2. v. li.) sind die Klimaveränderungen Thema. Und auch in ihrer Familie gibt es ernsthafte Debatten. Vater Jörg Janßen (re., mit Sohn Jonas) sagt: „Deutschland allein kann das Klimaproblem nicht lösen.“ Mutter Monika (li.) ärgert sich, dass Flugtickets zu billig und Bahntickets zu teuer sind. Moritz Frankenberg\n",
    "Familienwechsel. An der Schule der 16-jährigen Anna Janßen haben sie für kommendes Jahr die Jahrgangsfahrt abgeblasen. Es sollte an die Côte d´Azur gehen, per Flugzeug. Die Schule aber hatte sich gerade zur Klimaschule erklärt. Anna berichtet, die Côte-d´Azur-Tour habe „heftige Debatten“ ausgelöst, „jetzt fahren wir mit dem Zug nach Colmar ins Elsass“. Niemand sage also, die Klimabewegung der Kinder ändere nichts. Aber hätte man nicht auch mit dem Zug an die Côte fahren können? „Das ist viel teurer als die Billigtickets der Flieger“, sagt Mutter Monika Janßen (50): „Wir müssten eigentlich bereit sein, die Flüge teurer zu machen und die Bahntickets preiswerter.“\n",
    "Das kann Vater Jörg Janßen (50) nicht so stehen lassen. „Solange Trump seine Klimapolitik nicht ändert, brauchen auch wir gar nichts zu verändern“, sagt er: „Deutschland allein kann das Klimaproblem nicht lösen.“ Und dass in Polen „jeder Haushalt mit Briketts heizt“ und Kreuzfahrtschiffe ohnehin viel mehr Dreck in die Luft bliesen als Flieger. Tochter und Ehefrau funkeln ihn kritisch an, man ahnt, dass diese Diskussion schon etliche Male am Familientisch geführt wurde. Jörg Janßen betreibt eine Gärtnerei, man will ihm die Liebe zur Natur nicht absprechen. Aber in der Klimadebatte hat jeder seine eigenen Argumentationen und Rechtfertigungen fürs Handeln, und jetzt will Familie Janßen ins westgriechische Patras.\n",
    "Mit dem Tesla zum Flughafen: Hausarzt Karsten Müller (hier mit Sohn Vincent) hat mit seinen Kindern besprochen, welche CO2-Minderungen sinnvoll sind. Moritz Frankenberg\n",
    "Auch Karsten Müller (47) ist mit Frau und Kindern unterwegs, Lanzarote ist das Ziel. Die Insel lasse sich mit dem Auto ja nun mal schlecht erreichen, sagt er, und rechnet vor: „Fliegen macht 2 bis 3 Prozent des CO2-Ausstoßes aus.“ Er ist Hautarzt, hat viel auch mit Atemwegserkrankungen zu tun. Deshalb hat er gehandelt und versucht, die Welt etwas besser zu machen. Er fährt den abgasfreien Tesla, mit dem die Familie auch zum Flughafen gekommen ist. Der Strom fürs Auto kommt aus der hauseigenen Solaranlage, sodass Müller sich das billige Argument nicht ständig anhören muss, sein Auto fahre ja mit einem Strommix, der Braunkohleabgase beinhaltet. „Ich habe mit meinen Kindern besprochen, wie wir CO2 sparen können und was sinnvoll ist“, sagt er, als er Sohn Vincent (10) an sich drückt. Dann geht es nach Lanzarote.\n",
    "Man kann vielleicht sagen: Hannovers Fluggastzahlen sind noch nicht signifikant zurückgegangen in den Herbstferien 2019. Aber die Diskussionen haben zugenommen. Und das ist vielleicht schon mal ein Anfang.'''"
   ]
  },
  {
   "cell_type": "code",
   "execution_count": 6,
   "metadata": {},
   "outputs": [],
   "source": [
    "blob = TextBlob(text)"
   ]
  },
  {
   "cell_type": "code",
   "execution_count": null,
   "metadata": {},
   "outputs": [],
   "source": [
    "blob.sentences"
   ]
  },
  {
   "cell_type": "code",
   "execution_count": null,
   "metadata": {},
   "outputs": [],
   "source": [
    "blob.noun_phrases"
   ]
  },
  {
   "cell_type": "code",
   "execution_count": null,
   "metadata": {},
   "outputs": [],
   "source": [
    "blob.parse()\n",
    "from textblob_de import PatternParser\n",
    "blob = TextBlob(text, parser=PatternParser(pprint=True, lemmata=True))\n",
    "blob.parse()"
   ]
  },
  {
   "cell_type": "code",
   "execution_count": null,
   "metadata": {},
   "outputs": [],
   "source": [
    "blob.sentiment"
   ]
  },
  {
   "cell_type": "code",
   "execution_count": null,
   "metadata": {},
   "outputs": [],
   "source": [
    "help(blob)"
   ]
  },
  {
   "cell_type": "code",
   "execution_count": null,
   "metadata": {},
   "outputs": [],
   "source": [
    "blob.pos_tags"
   ]
  },
  {
   "cell_type": "markdown",
   "metadata": {},
   "source": [
    "https://textblob.readthedocs.io/en/dev/classifiers.html"
   ]
  },
  {
   "cell_type": "raw",
   "metadata": {},
   "source": [
    "'''\n",
    "\n",
    "from textblob.classifiers import NaiveBayesClassifier\n",
    "#cl = NaiveBayesClassifier(train)\n",
    "for s in blob.sentences:\n",
    "    print(s)\n",
    "    print(s.classify())\n",
    "    \n",
    "'''    "
   ]
  },
  {
   "cell_type": "code",
   "execution_count": null,
   "metadata": {},
   "outputs": [],
   "source": [
    "text.split()"
   ]
  },
  {
   "cell_type": "code",
   "execution_count": null,
   "metadata": {},
   "outputs": [],
   "source": [
    "# dictionary = corpora.Dictionary(text.split()) ... DAS läuft so noch nicht ..."
   ]
  },
  {
   "cell_type": "code",
   "execution_count": null,
   "metadata": {},
   "outputs": [],
   "source": [
    "import textacy"
   ]
  },
  {
   "cell_type": "code",
   "execution_count": null,
   "metadata": {},
   "outputs": [],
   "source": [
    "from textacy import preprocessing"
   ]
  },
  {
   "cell_type": "code",
   "execution_count": null,
   "metadata": {},
   "outputs": [],
   "source": [
    "file_contents = \"\"\n",
    "with open(\"DHB.txt\", \"r\") as file_handle:\n",
    "    for line in file_handle.readlines():\n",
    "        print(line)\n",
    "        file_contents += line.replace(\"-\", \"_\")"
   ]
  },
  {
   "cell_type": "code",
   "execution_count": 13,
   "metadata": {},
   "outputs": [],
   "source": [
    "import textblob_de\n",
    "import re"
   ]
  },
  {
   "cell_type": "code",
   "execution_count": null,
   "metadata": {},
   "outputs": [],
   "source": [
    "clean_1 = re.sub(r\"\\n\", \"\", file_contents)"
   ]
  },
  {
   "cell_type": "code",
   "execution_count": null,
   "metadata": {},
   "outputs": [],
   "source": [
    "clean_1"
   ]
  },
  {
   "cell_type": "markdown",
   "metadata": {},
   "source": [
    "    Übungen mit Pandas"
   ]
  },
  {
   "cell_type": "markdown",
   "metadata": {},
   "source": [
    "https://twitter.com/justmarkham/status/1182286191028244480/photo/1"
   ]
  },
  {
   "cell_type": "code",
   "execution_count": null,
   "metadata": {},
   "outputs": [],
   "source": []
  },
  {
   "cell_type": "code",
   "execution_count": 9,
   "metadata": {},
   "outputs": [],
   "source": [
    "import pandas\n",
    "from glob import glob"
   ]
  },
  {
   "cell_type": "code",
   "execution_count": 10,
   "metadata": {},
   "outputs": [],
   "source": [
    "dateiliste = glob('*.txt')"
   ]
  },
  {
   "cell_type": "code",
   "execution_count": 11,
   "metadata": {},
   "outputs": [
    {
     "data": {
      "text/plain": [
       "'DKB.txt'"
      ]
     },
     "execution_count": 11,
     "metadata": {},
     "output_type": "execute_result"
    }
   ],
   "source": [
    "dateiliste[0]"
   ]
  },
  {
   "cell_type": "code",
   "execution_count": 15,
   "metadata": {},
   "outputs": [],
   "source": [
    "for datei in dateiliste:\n",
    "    # print(datei)\n",
    "    with open(datei, \"r\") as file_handle:\n",
    "        file_contents = file_handle.read()\n",
    "    clean_1 = re.sub(r\"\\n\", \"\", file_contents)\n",
    "    blob = TextBlob(file_contents) # wie hängt man nun zwei Textblobs hintereinander?\n",
    "    # und was steht nun im blob?"
   ]
  },
  {
   "cell_type": "code",
   "execution_count": null,
   "metadata": {},
   "outputs": [],
   "source": []
  }
 ],
 "metadata": {
  "kernelspec": {
   "display_name": "Python [conda env:nlp]",
   "language": "python",
   "name": "conda-env-nlp-py"
  },
  "language_info": {
   "codemirror_mode": {
    "name": "ipython",
    "version": 3
   },
   "file_extension": ".py",
   "mimetype": "text/x-python",
   "name": "python",
   "nbconvert_exporter": "python",
   "pygments_lexer": "ipython3",
   "version": "3.6.7"
  },
  "varInspector": {
   "cols": {
    "lenName": 16,
    "lenType": 16,
    "lenVar": 40
   },
   "kernels_config": {
    "python": {
     "delete_cmd_postfix": "",
     "delete_cmd_prefix": "del ",
     "library": "var_list.py",
     "varRefreshCmd": "print(var_dic_list())"
    },
    "r": {
     "delete_cmd_postfix": ") ",
     "delete_cmd_prefix": "rm(",
     "library": "var_list.r",
     "varRefreshCmd": "cat(var_dic_list()) "
    }
   },
   "types_to_exclude": [
    "module",
    "function",
    "builtin_function_or_method",
    "instance",
    "_Feature"
   ],
   "window_display": false
  }
 },
 "nbformat": 4,
 "nbformat_minor": 2
}
